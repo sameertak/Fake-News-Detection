{
 "cells": [
  {
   "cell_type": "markdown",
   "id": "7677a837",
   "metadata": {},
   "source": [
    "## Importing Dependencies"
   ]
  },
  {
   "cell_type": "code",
   "execution_count": 120,
   "id": "49cbaa94",
   "metadata": {},
   "outputs": [],
   "source": [
    "import numpy as np                                             #For Arrays and all\n",
    "import pandas as pd                                            #For Dataframes\n",
    "import re                                                      #For searching words in Text/Para\n",
    "from nltk.corpus import stopwords                              #To remove words which don't add values (where, what, when, etc.)\n",
    "from nltk.stem.porter import PorterStemmer                     #To Stem WOrds(Root word for particular word)\n",
    "from sklearn.feature_extraction.text import TfidfVectorizer    #TO convert text to feature vectors\n",
    "from sklearn.model_selection import train_test_split           #To split train, test\n",
    "from sklearn.linear_model import LogisticRegression            #To Apply Model\n",
    "from sklearn.metrics import accuracy_score                     #To view accuracy\n",
    "from sklearn.neighbors import KNeighborsClassifier"
   ]
  },
  {
   "cell_type": "code",
   "execution_count": 121,
   "id": "fd0aadaa",
   "metadata": {},
   "outputs": [
    {
     "name": "stderr",
     "output_type": "stream",
     "text": [
      "[nltk_data] Downloading package stopwords to\n",
      "[nltk_data]     C:\\Users\\taksa\\AppData\\Roaming\\nltk_data...\n",
      "[nltk_data]   Package stopwords is already up-to-date!\n"
     ]
    },
    {
     "data": {
      "text/plain": [
       "True"
      ]
     },
     "execution_count": 121,
     "metadata": {},
     "output_type": "execute_result"
    }
   ],
   "source": [
    "import nltk\n",
    "nltk.download('stopwords')"
   ]
  },
  {
   "cell_type": "markdown",
   "id": "5f1fb1c9",
   "metadata": {},
   "source": [
    "#### Printing stopwords in English"
   ]
  },
  {
   "cell_type": "code",
   "execution_count": 122,
   "id": "1baef0e1",
   "metadata": {},
   "outputs": [
    {
     "name": "stdout",
     "output_type": "stream",
     "text": [
      "['i', 'me', 'my', 'myself', 'we', 'our', 'ours', 'ourselves', 'you', \"you're\", \"you've\", \"you'll\", \"you'd\", 'your', 'yours', 'yourself', 'yourselves', 'he', 'him', 'his', 'himself', 'she', \"she's\", 'her', 'hers', 'herself', 'it', \"it's\", 'its', 'itself', 'they', 'them', 'their', 'theirs', 'themselves', 'what', 'which', 'who', 'whom', 'this', 'that', \"that'll\", 'these', 'those', 'am', 'is', 'are', 'was', 'were', 'be', 'been', 'being', 'have', 'has', 'had', 'having', 'do', 'does', 'did', 'doing', 'a', 'an', 'the', 'and', 'but', 'if', 'or', 'because', 'as', 'until', 'while', 'of', 'at', 'by', 'for', 'with', 'about', 'against', 'between', 'into', 'through', 'during', 'before', 'after', 'above', 'below', 'to', 'from', 'up', 'down', 'in', 'out', 'on', 'off', 'over', 'under', 'again', 'further', 'then', 'once', 'here', 'there', 'when', 'where', 'why', 'how', 'all', 'any', 'both', 'each', 'few', 'more', 'most', 'other', 'some', 'such', 'no', 'nor', 'not', 'only', 'own', 'same', 'so', 'than', 'too', 'very', 's', 't', 'can', 'will', 'just', 'don', \"don't\", 'should', \"should've\", 'now', 'd', 'll', 'm', 'o', 're', 've', 'y', 'ain', 'aren', \"aren't\", 'couldn', \"couldn't\", 'didn', \"didn't\", 'doesn', \"doesn't\", 'hadn', \"hadn't\", 'hasn', \"hasn't\", 'haven', \"haven't\", 'isn', \"isn't\", 'ma', 'mightn', \"mightn't\", 'mustn', \"mustn't\", 'needn', \"needn't\", 'shan', \"shan't\", 'shouldn', \"shouldn't\", 'wasn', \"wasn't\", 'weren', \"weren't\", 'won', \"won't\", 'wouldn', \"wouldn't\"]\n"
     ]
    }
   ],
   "source": [
    "print(stopwords.words('english'))"
   ]
  },
  {
   "cell_type": "markdown",
   "id": "51cd01cc",
   "metadata": {},
   "source": [
    "## Data Preprocessing"
   ]
  },
  {
   "cell_type": "markdown",
   "id": "4466bfef",
   "metadata": {},
   "source": [
    "#### Loading Dataset to Dataframe"
   ]
  },
  {
   "cell_type": "code",
   "execution_count": 123,
   "id": "f1f82e74",
   "metadata": {},
   "outputs": [
    {
     "data": {
      "text/html": [
       "<div>\n",
       "<style scoped>\n",
       "    .dataframe tbody tr th:only-of-type {\n",
       "        vertical-align: middle;\n",
       "    }\n",
       "\n",
       "    .dataframe tbody tr th {\n",
       "        vertical-align: top;\n",
       "    }\n",
       "\n",
       "    .dataframe thead th {\n",
       "        text-align: right;\n",
       "    }\n",
       "</style>\n",
       "<table border=\"1\" class=\"dataframe\">\n",
       "  <thead>\n",
       "    <tr style=\"text-align: right;\">\n",
       "      <th></th>\n",
       "      <th>id</th>\n",
       "      <th>title</th>\n",
       "      <th>author</th>\n",
       "      <th>text</th>\n",
       "      <th>label</th>\n",
       "    </tr>\n",
       "  </thead>\n",
       "  <tbody>\n",
       "    <tr>\n",
       "      <th>0</th>\n",
       "      <td>0</td>\n",
       "      <td>House Dem Aide: We Didn’t Even See Comey’s Let...</td>\n",
       "      <td>Darrell Lucus</td>\n",
       "      <td>House Dem Aide: We Didn’t Even See Comey’s Let...</td>\n",
       "      <td>1.0</td>\n",
       "    </tr>\n",
       "    <tr>\n",
       "      <th>1</th>\n",
       "      <td>1</td>\n",
       "      <td>FLYNN: Hillary Clinton, Big Woman on Campus - ...</td>\n",
       "      <td>Daniel J. Flynn</td>\n",
       "      <td>Ever get the feeling your life circles the rou...</td>\n",
       "      <td>0.0</td>\n",
       "    </tr>\n",
       "    <tr>\n",
       "      <th>2</th>\n",
       "      <td>2</td>\n",
       "      <td>Why the Truth Might Get You Fired</td>\n",
       "      <td>Consortiumnews.com</td>\n",
       "      <td>Why the Truth Might Get You Fired October 29, ...</td>\n",
       "      <td>1.0</td>\n",
       "    </tr>\n",
       "    <tr>\n",
       "      <th>3</th>\n",
       "      <td>3</td>\n",
       "      <td>15 Civilians Killed In Single US Airstrike Hav...</td>\n",
       "      <td>Jessica Purkiss</td>\n",
       "      <td>Videos 15 Civilians Killed In Single US Airstr...</td>\n",
       "      <td>1.0</td>\n",
       "    </tr>\n",
       "    <tr>\n",
       "      <th>4</th>\n",
       "      <td>4</td>\n",
       "      <td>Iranian woman jailed for fictional unpublished...</td>\n",
       "      <td>Howard Portnoy</td>\n",
       "      <td>Print \\nAn Iranian woman has been sentenced to...</td>\n",
       "      <td>1.0</td>\n",
       "    </tr>\n",
       "    <tr>\n",
       "      <th>...</th>\n",
       "      <td>...</td>\n",
       "      <td>...</td>\n",
       "      <td>...</td>\n",
       "      <td>...</td>\n",
       "      <td>...</td>\n",
       "    </tr>\n",
       "    <tr>\n",
       "      <th>25995</th>\n",
       "      <td>25995</td>\n",
       "      <td>The Bangladeshi Traffic Jam That Never Ends - ...</td>\n",
       "      <td>Jody Rosen</td>\n",
       "      <td>Of all the dysfunctions that plague the world’...</td>\n",
       "      <td>NaN</td>\n",
       "    </tr>\n",
       "    <tr>\n",
       "      <th>25996</th>\n",
       "      <td>25996</td>\n",
       "      <td>John Kasich Signs One Abortion Bill in Ohio bu...</td>\n",
       "      <td>Sheryl Gay Stolberg</td>\n",
       "      <td>WASHINGTON  —   Gov. John Kasich of Ohio on Tu...</td>\n",
       "      <td>NaN</td>\n",
       "    </tr>\n",
       "    <tr>\n",
       "      <th>25997</th>\n",
       "      <td>25997</td>\n",
       "      <td>California Today: What, Exactly, Is in Your Su...</td>\n",
       "      <td>Mike McPhate</td>\n",
       "      <td>Good morning. (Want to get California Today by...</td>\n",
       "      <td>NaN</td>\n",
       "    </tr>\n",
       "    <tr>\n",
       "      <th>25998</th>\n",
       "      <td>25998</td>\n",
       "      <td>300 US Marines To Be Deployed To Russian Borde...</td>\n",
       "      <td>NaN</td>\n",
       "      <td>« Previous - Next » 300 US Marines To Be Deplo...</td>\n",
       "      <td>NaN</td>\n",
       "    </tr>\n",
       "    <tr>\n",
       "      <th>25999</th>\n",
       "      <td>25999</td>\n",
       "      <td>Awkward Sex, Onscreen and Off - The New York T...</td>\n",
       "      <td>Teddy Wayne</td>\n",
       "      <td>Perhaps you’ve seen the new TV series whose pi...</td>\n",
       "      <td>NaN</td>\n",
       "    </tr>\n",
       "  </tbody>\n",
       "</table>\n",
       "<p>26000 rows × 5 columns</p>\n",
       "</div>"
      ],
      "text/plain": [
       "          id                                              title  \\\n",
       "0          0  House Dem Aide: We Didn’t Even See Comey’s Let...   \n",
       "1          1  FLYNN: Hillary Clinton, Big Woman on Campus - ...   \n",
       "2          2                  Why the Truth Might Get You Fired   \n",
       "3          3  15 Civilians Killed In Single US Airstrike Hav...   \n",
       "4          4  Iranian woman jailed for fictional unpublished...   \n",
       "...      ...                                                ...   \n",
       "25995  25995  The Bangladeshi Traffic Jam That Never Ends - ...   \n",
       "25996  25996  John Kasich Signs One Abortion Bill in Ohio bu...   \n",
       "25997  25997  California Today: What, Exactly, Is in Your Su...   \n",
       "25998  25998  300 US Marines To Be Deployed To Russian Borde...   \n",
       "25999  25999  Awkward Sex, Onscreen and Off - The New York T...   \n",
       "\n",
       "                    author                                               text  \\\n",
       "0            Darrell Lucus  House Dem Aide: We Didn’t Even See Comey’s Let...   \n",
       "1          Daniel J. Flynn  Ever get the feeling your life circles the rou...   \n",
       "2       Consortiumnews.com  Why the Truth Might Get You Fired October 29, ...   \n",
       "3          Jessica Purkiss  Videos 15 Civilians Killed In Single US Airstr...   \n",
       "4           Howard Portnoy  Print \\nAn Iranian woman has been sentenced to...   \n",
       "...                    ...                                                ...   \n",
       "25995           Jody Rosen  Of all the dysfunctions that plague the world’...   \n",
       "25996  Sheryl Gay Stolberg  WASHINGTON  —   Gov. John Kasich of Ohio on Tu...   \n",
       "25997         Mike McPhate  Good morning. (Want to get California Today by...   \n",
       "25998                  NaN  « Previous - Next » 300 US Marines To Be Deplo...   \n",
       "25999          Teddy Wayne  Perhaps you’ve seen the new TV series whose pi...   \n",
       "\n",
       "       label  \n",
       "0        1.0  \n",
       "1        0.0  \n",
       "2        1.0  \n",
       "3        1.0  \n",
       "4        1.0  \n",
       "...      ...  \n",
       "25995    NaN  \n",
       "25996    NaN  \n",
       "25997    NaN  \n",
       "25998    NaN  \n",
       "25999    NaN  \n",
       "\n",
       "[26000 rows x 5 columns]"
      ]
     },
     "execution_count": 123,
     "metadata": {},
     "output_type": "execute_result"
    }
   ],
   "source": [
    "news_dataset = df = pd.concat(map(pd.read_csv, ['train.csv', 'test.csv']), ignore_index=True)\n",
    "news_dataset"
   ]
  },
  {
   "cell_type": "code",
   "execution_count": 152,
   "id": "29241dcb",
   "metadata": {},
   "outputs": [],
   "source": [
    "test = pd.read_csv('test.csv')\n",
    "id = test['id']"
   ]
  },
  {
   "cell_type": "code",
   "execution_count": 125,
   "id": "0b42159d",
   "metadata": {},
   "outputs": [
    {
     "data": {
      "text/plain": [
       "(26000, 5)"
      ]
     },
     "execution_count": 125,
     "metadata": {},
     "output_type": "execute_result"
    }
   ],
   "source": [
    "news_dataset.shape"
   ]
  },
  {
   "cell_type": "code",
   "execution_count": 126,
   "id": "e1a9c6fd",
   "metadata": {},
   "outputs": [
    {
     "data": {
      "text/plain": [
       "id           0\n",
       "title      680\n",
       "author    2460\n",
       "text        46\n",
       "label     5200\n",
       "dtype: int64"
      ]
     },
     "execution_count": 126,
     "metadata": {},
     "output_type": "execute_result"
    }
   ],
   "source": [
    "news_dataset.isnull().sum()"
   ]
  },
  {
   "cell_type": "markdown",
   "id": "898694a3",
   "metadata": {},
   "source": [
    "#### Replacing Null values with empty string"
   ]
  },
  {
   "cell_type": "code",
   "execution_count": 127,
   "id": "c884e703",
   "metadata": {},
   "outputs": [
    {
     "data": {
      "text/plain": [
       "id           0\n",
       "title        0\n",
       "author       0\n",
       "text         0\n",
       "label     5200\n",
       "dtype: int64"
      ]
     },
     "execution_count": 127,
     "metadata": {},
     "output_type": "execute_result"
    }
   ],
   "source": [
    "news_dataset['title'] = news_dataset['title'].fillna('')\n",
    "news_dataset['author'] = news_dataset['author'].fillna('')\n",
    "news_dataset['text'] = news_dataset['text'].fillna('')\n",
    "\n",
    "news_dataset.isnull().sum()"
   ]
  },
  {
   "cell_type": "markdown",
   "id": "99b55a43",
   "metadata": {},
   "source": [
    "#### Merging Text and Author"
   ]
  },
  {
   "cell_type": "code",
   "execution_count": 128,
   "id": "ada80c2d",
   "metadata": {
    "scrolled": true
   },
   "outputs": [
    {
     "data": {
      "text/html": [
       "<div>\n",
       "<style scoped>\n",
       "    .dataframe tbody tr th:only-of-type {\n",
       "        vertical-align: middle;\n",
       "    }\n",
       "\n",
       "    .dataframe tbody tr th {\n",
       "        vertical-align: top;\n",
       "    }\n",
       "\n",
       "    .dataframe thead th {\n",
       "        text-align: right;\n",
       "    }\n",
       "</style>\n",
       "<table border=\"1\" class=\"dataframe\">\n",
       "  <thead>\n",
       "    <tr style=\"text-align: right;\">\n",
       "      <th></th>\n",
       "      <th>id</th>\n",
       "      <th>title</th>\n",
       "      <th>author</th>\n",
       "      <th>text</th>\n",
       "      <th>label</th>\n",
       "      <th>content</th>\n",
       "    </tr>\n",
       "  </thead>\n",
       "  <tbody>\n",
       "    <tr>\n",
       "      <th>0</th>\n",
       "      <td>0</td>\n",
       "      <td>House Dem Aide: We Didn’t Even See Comey’s Let...</td>\n",
       "      <td>Darrell Lucus</td>\n",
       "      <td>House Dem Aide: We Didn’t Even See Comey’s Let...</td>\n",
       "      <td>1.0</td>\n",
       "      <td>Darrell Lucus House Dem Aide: We Didn’t Even S...</td>\n",
       "    </tr>\n",
       "    <tr>\n",
       "      <th>1</th>\n",
       "      <td>1</td>\n",
       "      <td>FLYNN: Hillary Clinton, Big Woman on Campus - ...</td>\n",
       "      <td>Daniel J. Flynn</td>\n",
       "      <td>Ever get the feeling your life circles the rou...</td>\n",
       "      <td>0.0</td>\n",
       "      <td>Daniel J. Flynn FLYNN: Hillary Clinton, Big Wo...</td>\n",
       "    </tr>\n",
       "    <tr>\n",
       "      <th>2</th>\n",
       "      <td>2</td>\n",
       "      <td>Why the Truth Might Get You Fired</td>\n",
       "      <td>Consortiumnews.com</td>\n",
       "      <td>Why the Truth Might Get You Fired October 29, ...</td>\n",
       "      <td>1.0</td>\n",
       "      <td>Consortiumnews.com Why the Truth Might Get You...</td>\n",
       "    </tr>\n",
       "    <tr>\n",
       "      <th>3</th>\n",
       "      <td>3</td>\n",
       "      <td>15 Civilians Killed In Single US Airstrike Hav...</td>\n",
       "      <td>Jessica Purkiss</td>\n",
       "      <td>Videos 15 Civilians Killed In Single US Airstr...</td>\n",
       "      <td>1.0</td>\n",
       "      <td>Jessica Purkiss 15 Civilians Killed In Single ...</td>\n",
       "    </tr>\n",
       "    <tr>\n",
       "      <th>4</th>\n",
       "      <td>4</td>\n",
       "      <td>Iranian woman jailed for fictional unpublished...</td>\n",
       "      <td>Howard Portnoy</td>\n",
       "      <td>Print \\nAn Iranian woman has been sentenced to...</td>\n",
       "      <td>1.0</td>\n",
       "      <td>Howard Portnoy Iranian woman jailed for fictio...</td>\n",
       "    </tr>\n",
       "    <tr>\n",
       "      <th>...</th>\n",
       "      <td>...</td>\n",
       "      <td>...</td>\n",
       "      <td>...</td>\n",
       "      <td>...</td>\n",
       "      <td>...</td>\n",
       "      <td>...</td>\n",
       "    </tr>\n",
       "    <tr>\n",
       "      <th>25995</th>\n",
       "      <td>25995</td>\n",
       "      <td>The Bangladeshi Traffic Jam That Never Ends - ...</td>\n",
       "      <td>Jody Rosen</td>\n",
       "      <td>Of all the dysfunctions that plague the world’...</td>\n",
       "      <td>NaN</td>\n",
       "      <td>Jody Rosen The Bangladeshi Traffic Jam That Ne...</td>\n",
       "    </tr>\n",
       "    <tr>\n",
       "      <th>25996</th>\n",
       "      <td>25996</td>\n",
       "      <td>John Kasich Signs One Abortion Bill in Ohio bu...</td>\n",
       "      <td>Sheryl Gay Stolberg</td>\n",
       "      <td>WASHINGTON  —   Gov. John Kasich of Ohio on Tu...</td>\n",
       "      <td>NaN</td>\n",
       "      <td>Sheryl Gay Stolberg John Kasich Signs One Abor...</td>\n",
       "    </tr>\n",
       "    <tr>\n",
       "      <th>25997</th>\n",
       "      <td>25997</td>\n",
       "      <td>California Today: What, Exactly, Is in Your Su...</td>\n",
       "      <td>Mike McPhate</td>\n",
       "      <td>Good morning. (Want to get California Today by...</td>\n",
       "      <td>NaN</td>\n",
       "      <td>Mike McPhate California Today: What, Exactly, ...</td>\n",
       "    </tr>\n",
       "    <tr>\n",
       "      <th>25998</th>\n",
       "      <td>25998</td>\n",
       "      <td>300 US Marines To Be Deployed To Russian Borde...</td>\n",
       "      <td></td>\n",
       "      <td>« Previous - Next » 300 US Marines To Be Deplo...</td>\n",
       "      <td>NaN</td>\n",
       "      <td>300 US Marines To Be Deployed To Russian Bord...</td>\n",
       "    </tr>\n",
       "    <tr>\n",
       "      <th>25999</th>\n",
       "      <td>25999</td>\n",
       "      <td>Awkward Sex, Onscreen and Off - The New York T...</td>\n",
       "      <td>Teddy Wayne</td>\n",
       "      <td>Perhaps you’ve seen the new TV series whose pi...</td>\n",
       "      <td>NaN</td>\n",
       "      <td>Teddy Wayne Awkward Sex, Onscreen and Off - Th...</td>\n",
       "    </tr>\n",
       "  </tbody>\n",
       "</table>\n",
       "<p>26000 rows × 6 columns</p>\n",
       "</div>"
      ],
      "text/plain": [
       "          id                                              title  \\\n",
       "0          0  House Dem Aide: We Didn’t Even See Comey’s Let...   \n",
       "1          1  FLYNN: Hillary Clinton, Big Woman on Campus - ...   \n",
       "2          2                  Why the Truth Might Get You Fired   \n",
       "3          3  15 Civilians Killed In Single US Airstrike Hav...   \n",
       "4          4  Iranian woman jailed for fictional unpublished...   \n",
       "...      ...                                                ...   \n",
       "25995  25995  The Bangladeshi Traffic Jam That Never Ends - ...   \n",
       "25996  25996  John Kasich Signs One Abortion Bill in Ohio bu...   \n",
       "25997  25997  California Today: What, Exactly, Is in Your Su...   \n",
       "25998  25998  300 US Marines To Be Deployed To Russian Borde...   \n",
       "25999  25999  Awkward Sex, Onscreen and Off - The New York T...   \n",
       "\n",
       "                    author                                               text  \\\n",
       "0            Darrell Lucus  House Dem Aide: We Didn’t Even See Comey’s Let...   \n",
       "1          Daniel J. Flynn  Ever get the feeling your life circles the rou...   \n",
       "2       Consortiumnews.com  Why the Truth Might Get You Fired October 29, ...   \n",
       "3          Jessica Purkiss  Videos 15 Civilians Killed In Single US Airstr...   \n",
       "4           Howard Portnoy  Print \\nAn Iranian woman has been sentenced to...   \n",
       "...                    ...                                                ...   \n",
       "25995           Jody Rosen  Of all the dysfunctions that plague the world’...   \n",
       "25996  Sheryl Gay Stolberg  WASHINGTON  —   Gov. John Kasich of Ohio on Tu...   \n",
       "25997         Mike McPhate  Good morning. (Want to get California Today by...   \n",
       "25998                       « Previous - Next » 300 US Marines To Be Deplo...   \n",
       "25999          Teddy Wayne  Perhaps you’ve seen the new TV series whose pi...   \n",
       "\n",
       "       label                                            content  \n",
       "0        1.0  Darrell Lucus House Dem Aide: We Didn’t Even S...  \n",
       "1        0.0  Daniel J. Flynn FLYNN: Hillary Clinton, Big Wo...  \n",
       "2        1.0  Consortiumnews.com Why the Truth Might Get You...  \n",
       "3        1.0  Jessica Purkiss 15 Civilians Killed In Single ...  \n",
       "4        1.0  Howard Portnoy Iranian woman jailed for fictio...  \n",
       "...      ...                                                ...  \n",
       "25995    NaN  Jody Rosen The Bangladeshi Traffic Jam That Ne...  \n",
       "25996    NaN  Sheryl Gay Stolberg John Kasich Signs One Abor...  \n",
       "25997    NaN  Mike McPhate California Today: What, Exactly, ...  \n",
       "25998    NaN   300 US Marines To Be Deployed To Russian Bord...  \n",
       "25999    NaN  Teddy Wayne Awkward Sex, Onscreen and Off - Th...  \n",
       "\n",
       "[26000 rows x 6 columns]"
      ]
     },
     "execution_count": 128,
     "metadata": {},
     "output_type": "execute_result"
    }
   ],
   "source": [
    "news_dataset['content'] = news_dataset['author'] + ' ' + news_dataset['title']\n",
    "news_dataset"
   ]
  },
  {
   "cell_type": "markdown",
   "id": "8ec9edee",
   "metadata": {},
   "source": [
    "## Stemming\n",
    "#### Process of reducing a word to its root word\n",
    "Ex:- (acting, actor, actress --> act)"
   ]
  },
  {
   "cell_type": "code",
   "execution_count": 129,
   "id": "93f5f0b7",
   "metadata": {},
   "outputs": [],
   "source": [
    "port_stem = PorterStemmer()"
   ]
  },
  {
   "cell_type": "code",
   "execution_count": 130,
   "id": "24508fc6",
   "metadata": {},
   "outputs": [],
   "source": [
    "def stemming(content):\n",
    "    stemmed_content = re.sub('[^a-zA-Z]',' ',content)\n",
    "    stemmed_content = stemmed_content.lower().split()\n",
    "    stemmed_content = [port_stem.stem(word) for word in stemmed_content if not word in stopwords.words('english')]\n",
    "    stemmed_content = ' '.join(stemmed_content)\n",
    "    return stemmed_content"
   ]
  },
  {
   "cell_type": "code",
   "execution_count": 131,
   "id": "3b62e462",
   "metadata": {},
   "outputs": [],
   "source": [
    "news_dataset['content'] = news_dataset['content'].apply(stemming)"
   ]
  },
  {
   "cell_type": "code",
   "execution_count": 132,
   "id": "6927f0a1",
   "metadata": {},
   "outputs": [
    {
     "data": {
      "text/plain": [
       "0        darrel lucu hous dem aid even see comey letter...\n",
       "1        daniel j flynn flynn hillari clinton big woman...\n",
       "2                   consortiumnew com truth might get fire\n",
       "3        jessica purkiss civilian kill singl us airstri...\n",
       "4        howard portnoy iranian woman jail fiction unpu...\n",
       "                               ...                        \n",
       "25995    jodi rosen bangladeshi traffic jam never end n...\n",
       "25996    sheryl gay stolberg john kasich sign one abort...\n",
       "25997    mike mcphate california today exactli sushi ne...\n",
       "25998                us marin deploy russian border norway\n",
       "25999        teddi wayn awkward sex onscreen new york time\n",
       "Name: content, Length: 26000, dtype: object"
      ]
     },
     "execution_count": 132,
     "metadata": {},
     "output_type": "execute_result"
    }
   ],
   "source": [
    "news_dataset['content']"
   ]
  },
  {
   "cell_type": "markdown",
   "id": "035fda27",
   "metadata": {},
   "source": [
    "#### Seprating Data and Labels"
   ]
  },
  {
   "cell_type": "code",
   "execution_count": 134,
   "id": "7e800b33",
   "metadata": {},
   "outputs": [
    {
     "data": {
      "text/plain": [
       "((26000,), (26000,))"
      ]
     },
     "execution_count": 134,
     "metadata": {},
     "output_type": "execute_result"
    }
   ],
   "source": [
    "y = news_dataset['label']\n",
    "x = news_dataset['content']\n",
    "x.shape, y.shape"
   ]
  },
  {
   "cell_type": "markdown",
   "id": "09e94857",
   "metadata": {},
   "source": [
    "#### Converting textual data to numerical data"
   ]
  },
  {
   "cell_type": "code",
   "execution_count": 135,
   "id": "ac0c254b",
   "metadata": {},
   "outputs": [],
   "source": [
    "vectorizer = TfidfVectorizer()\n",
    "x = vectorizer.fit_transform(x)"
   ]
  },
  {
   "cell_type": "code",
   "execution_count": 136,
   "id": "cec0863c",
   "metadata": {},
   "outputs": [
    {
     "name": "stdout",
     "output_type": "stream",
     "text": [
      "  (0, 17288)\t0.2781166125472449\n",
      "  (0, 2716)\t0.3693871882860092\n",
      "  (0, 8465)\t0.24935613493111794\n",
      "  (0, 9497)\t0.290825608206731\n",
      "  (0, 3250)\t0.2422331119224367\n",
      "  (0, 14828)\t0.25354922096224614\n",
      "  (0, 5460)\t0.23257096486999831\n",
      "  (0, 292)\t0.2687157895589713\n",
      "  (0, 4153)\t0.26978240443495427\n",
      "  (0, 7716)\t0.21726269299124773\n",
      "  (0, 9798)\t0.3693871882860092\n",
      "  (0, 3947)\t0.36572148274252403\n",
      "  (1, 2063)\t0.15482456635576514\n",
      "  (1, 2427)\t0.3785747505554428\n",
      "  (1, 18506)\t0.302866130276713\n",
      "  (1, 1635)\t0.2955188023757639\n",
      "  (1, 3085)\t0.19140110904389093\n",
      "  (1, 7506)\t0.1909783988504311\n",
      "  (1, 6041)\t0.7148288693257809\n",
      "  (1, 3913)\t0.2637495226080166\n",
      "  (2, 5911)\t0.38560410675769785\n",
      "  (2, 6567)\t0.34955443497637173\n",
      "  (2, 10596)\t0.4947014614528309\n",
      "  (2, 17205)\t0.4172932979023739\n",
      "  (2, 3231)\t0.31666291960534937\n",
      "  :\t:\n",
      "  (25996, 11356)\t0.08066725476410413\n",
      "  (25996, 8604)\t0.1780565335099132\n",
      "  (25997, 5494)\t0.47911338942972304\n",
      "  (25997, 16321)\t0.522197410135636\n",
      "  (25997, 16897)\t0.34050601125337576\n",
      "  (25997, 10362)\t0.38120549237290263\n",
      "  (25997, 2384)\t0.32699216357792227\n",
      "  (25997, 10606)\t0.2965006137361755\n",
      "  (25997, 16848)\t0.11760214491229513\n",
      "  (25997, 18716)\t0.11993266522444608\n",
      "  (25997, 11356)\t0.11596402950369909\n",
      "  (25998, 11533)\t0.5243094225558957\n",
      "  (25998, 10127)\t0.4513865237603271\n",
      "  (25998, 4225)\t0.45579515819496186\n",
      "  (25998, 1927)\t0.35271148088668186\n",
      "  (25998, 14367)\t0.32462471897005757\n",
      "  (25998, 17664)\t0.2895064980912094\n",
      "  (25999, 16598)\t0.5042913358311566\n",
      "  (25999, 11801)\t0.48476707756355636\n",
      "  (25999, 1107)\t0.4513901375998317\n",
      "  (25999, 18182)\t0.4267924812080156\n",
      "  (25999, 14969)\t0.3040296960488088\n",
      "  (25999, 16848)\t0.10363305122250528\n",
      "  (25999, 18716)\t0.1056867461705383\n",
      "  (25999, 11356)\t0.10218951549299955\n"
     ]
    }
   ],
   "source": [
    "print(x)"
   ]
  },
  {
   "cell_type": "code",
   "execution_count": 138,
   "id": "29095990",
   "metadata": {},
   "outputs": [],
   "source": [
    "test = x[20800:,:]\n",
    "x = x[:20800,:]"
   ]
  },
  {
   "cell_type": "code",
   "execution_count": 144,
   "id": "c96d9bec",
   "metadata": {},
   "outputs": [],
   "source": [
    "y = y[:20800]"
   ]
  },
  {
   "cell_type": "code",
   "execution_count": 145,
   "id": "56fac75b",
   "metadata": {},
   "outputs": [
    {
     "data": {
      "text/plain": [
       "<20800x18866 sparse matrix of type '<class 'numpy.float64'>'\n",
       "\twith 210687 stored elements in Compressed Sparse Row format>"
      ]
     },
     "execution_count": 145,
     "metadata": {},
     "output_type": "execute_result"
    }
   ],
   "source": [
    "x"
   ]
  },
  {
   "cell_type": "code",
   "execution_count": 146,
   "id": "24269a94",
   "metadata": {},
   "outputs": [
    {
     "data": {
      "text/plain": [
       "<5200x18866 sparse matrix of type '<class 'numpy.float64'>'\n",
       "\twith 52526 stored elements in Compressed Sparse Row format>"
      ]
     },
     "execution_count": 146,
     "metadata": {},
     "output_type": "execute_result"
    }
   ],
   "source": [
    "test"
   ]
  },
  {
   "cell_type": "markdown",
   "id": "4666ecf6",
   "metadata": {},
   "source": [
    "## Train Test Split"
   ]
  },
  {
   "cell_type": "code",
   "execution_count": 147,
   "id": "917e0b07",
   "metadata": {},
   "outputs": [
    {
     "data": {
      "text/plain": [
       "<15600x18866 sparse matrix of type '<class 'numpy.float64'>'\n",
       "\twith 158057 stored elements in Compressed Sparse Row format>"
      ]
     },
     "execution_count": 147,
     "metadata": {},
     "output_type": "execute_result"
    }
   ],
   "source": [
    "x_train, x_test, y_train, y_test = train_test_split(x, y, stratify=y, test_size=0.25)\n",
    "x_train"
   ]
  },
  {
   "cell_type": "markdown",
   "id": "ab08ad44",
   "metadata": {},
   "source": [
    "## Applying Model"
   ]
  },
  {
   "cell_type": "code",
   "execution_count": 149,
   "id": "7df03838",
   "metadata": {},
   "outputs": [
    {
     "data": {
      "text/plain": [
       "0.9763461538461539"
      ]
     },
     "execution_count": 149,
     "metadata": {},
     "output_type": "execute_result"
    }
   ],
   "source": [
    "lr = LogisticRegression()\n",
    "lr.fit(x_train, y_train)\n",
    "pred = lr.predict(x_test)\n",
    "accuracy_score(pred, y_test)"
   ]
  },
  {
   "cell_type": "code",
   "execution_count": 150,
   "id": "c861920f",
   "metadata": {},
   "outputs": [],
   "source": [
    "pred = lr.predict(test)"
   ]
  },
  {
   "cell_type": "code",
   "execution_count": 160,
   "id": "f8ef6a7c",
   "metadata": {},
   "outputs": [
    {
     "data": {
      "text/plain": [
       "array([20800, 20801, 20802, ..., 25997, 25998, 25999], dtype=int64)"
      ]
     },
     "execution_count": 160,
     "metadata": {},
     "output_type": "execute_result"
    }
   ],
   "source": [
    "pred = pred.astype(int)"
   ]
  },
  {
   "cell_type": "code",
   "execution_count": 161,
   "id": "89505a63",
   "metadata": {},
   "outputs": [],
   "source": [
    "df = pd.DataFrame({\"id\" : id.values, \"label\" : pred})\n",
    "df.to_csv(\"submission.csv\", index=False)"
   ]
  },
  {
   "cell_type": "code",
   "execution_count": null,
   "id": "72b74ab9",
   "metadata": {},
   "outputs": [],
   "source": []
  }
 ],
 "metadata": {
  "kernelspec": {
   "display_name": "Python 3 (ipykernel)",
   "language": "python",
   "name": "python3"
  },
  "language_info": {
   "codemirror_mode": {
    "name": "ipython",
    "version": 3
   },
   "file_extension": ".py",
   "mimetype": "text/x-python",
   "name": "python",
   "nbconvert_exporter": "python",
   "pygments_lexer": "ipython3",
   "version": "3.9.7"
  }
 },
 "nbformat": 4,
 "nbformat_minor": 5
}
